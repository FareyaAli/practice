{
  "nbformat": 4,
  "nbformat_minor": 0,
  "metadata": {
    "colab": {
      "provenance": [],
      "authorship_tag": "ABX9TyNKH9TUHviMqBooavcmVhh0",
      "include_colab_link": true
    },
    "kernelspec": {
      "name": "python3",
      "display_name": "Python 3"
    },
    "language_info": {
      "name": "python"
    }
  },
  "cells": [
    {
      "cell_type": "markdown",
      "metadata": {
        "id": "view-in-github",
        "colab_type": "text"
      },
      "source": [
        "<a href=\"https://colab.research.google.com/github/FareyaAli/practice/blob/main/functions.ipynb\" target=\"_parent\"><img src=\"https://colab.research.google.com/assets/colab-badge.svg\" alt=\"Open In Colab\"/></a>"
      ]
    },
    {
      "cell_type": "code",
      "execution_count": 10,
      "metadata": {
        "id": "EUPDUsCxrPyO"
      },
      "outputs": [],
      "source": [
        "def darcy_coefficient(c=141.2):\n",
        "    \"\"\"\"calculation of darcy coefficient\"\"\"\n",
        "    q=float(input('enter flow rate in STB/day:'))\n",
        "    mu=float(input(\"enter viscosity in centpoise:\" ))\n",
        "    fvf=float(input(\"enter formation volume factor in rb/stv\"))\n",
        "    k= float(input(\"enter permeability in mdarcy\"))\n",
        "    h= float(input(\" enter formation depth in metre\"))\n",
        "    coeff= c*q*mu*fvf/(k*h)\n",
        "    print (f'darcys coefficient is{coeff}')"
      ]
    },
    {
      "cell_type": "code",
      "source": [
        "darcy_coefficient()\n"
      ],
      "metadata": {
        "colab": {
          "base_uri": "https://localhost:8080/"
        },
        "id": "WhRv2g5Ht4pu",
        "outputId": "1040debc-ca83-4ee2-dbec-85e42052f7dc"
      },
      "execution_count": 12,
      "outputs": [
        {
          "output_type": "stream",
          "name": "stdout",
          "text": [
            "enter flow rate in STB/day:25\n",
            "enter viscosity in centpoise:25\n",
            "enter formation volume factor in rb/stv45\n",
            "enter permeability in mdarcy85\n",
            " enter formation depth in metre52\n",
            "darcys coefficient is898.4728506787329\n"
          ]
        }
      ]
    },
    {
      "cell_type": "code",
      "source": [],
      "metadata": {
        "id": "_UlCSjA8uD50"
      },
      "execution_count": null,
      "outputs": []
    }
  ]
}