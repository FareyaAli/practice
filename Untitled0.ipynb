{
  "nbformat": 4,
  "nbformat_minor": 0,
  "metadata": {
    "colab": {
      "name": "Untitled0.ipynb",
      "provenance": [],
      "authorship_tag": "ABX9TyNHTZWjn5pcwG59j2z4NrvH",
      "include_colab_link": true
    },
    "kernelspec": {
      "name": "python3",
      "display_name": "Python 3"
    },
    "language_info": {
      "name": "python"
    }
  },
  "cells": [
    {
      "cell_type": "markdown",
      "metadata": {
        "id": "view-in-github",
        "colab_type": "text"
      },
      "source": [
        "<a href=\"https://colab.research.google.com/github/FareyaAli/practice/blob/demo2/Untitled0.ipynb\" target=\"_parent\"><img src=\"https://colab.research.google.com/assets/colab-badge.svg\" alt=\"Open In Colab\"/></a>"
      ]
    },
    {
      "cell_type": "code",
      "source": [
        "x =0\n",
        "for i in range(1,11):\n",
        "  y= x+i\n",
        "  print (\"current numer\",i,\"previous number\",x,\"sum\",y)\n",
        "  x = i\n",
        "\n",
        "\n",
        "\n",
        "\n",
        "  \n",
        "\n",
        "\n",
        "\n",
        "         \n",
        "\n",
        "\n",
        "\n",
        "\n",
        "\n",
        "\n",
        "   \n",
        "\n",
        "\n",
        "\n",
        "\n",
        "\n",
        "\n",
        "\n"
      ],
      "metadata": {
        "colab": {
          "base_uri": "https://localhost:8080/",
          "height": 409
        },
        "id": "Y6iUZR4Wzozm",
        "outputId": "d3ded3c3-a862-4d76-c3c8-31a8bd0d10e2"
      },
      "execution_count": 34,
      "outputs": [
        {
          "output_type": "stream",
          "name": "stdout",
          "text": [
            "current numer 1 previous number 0 sum 1\n",
            "current numer 2 previous number 1 sum 3\n",
            "current numer 3 previous number 2 sum 5\n",
            "current numer 4 previous number 3 sum 7\n",
            "current numer 5 previous number 4 sum 9\n",
            "current numer 6 previous number 5 sum 11\n",
            "current numer 7 previous number 6 sum 13\n",
            "current numer 8 previous number 7 sum 15\n",
            "current numer 9 previous number 8 sum 17\n",
            "current numer 10 previous number 9 sum 19\n"
          ]
        },
        {
          "output_type": "error",
          "ename": "TypeError",
          "evalue": "ignored",
          "traceback": [
            "\u001b[0;31m---------------------------------------------------------------------------\u001b[0m",
            "\u001b[0;31mTypeError\u001b[0m                                 Traceback (most recent call last)",
            "\u001b[0;32m<ipython-input-34-f8d31f16b6ca>\u001b[0m in \u001b[0;36m<module>\u001b[0;34m\u001b[0m\n\u001b[1;32m     16\u001b[0m \u001b[0mstr\u001b[0m \u001b[0;34m=\u001b[0m \u001b[0;34m\"pynative\"\u001b[0m\u001b[0;34m\u001b[0m\u001b[0;34m\u001b[0m\u001b[0m\n\u001b[1;32m     17\u001b[0m \u001b[0mx\u001b[0m\u001b[0;34m=\u001b[0m \u001b[0mlen\u001b[0m\u001b[0;34m(\u001b[0m\u001b[0mstr\u001b[0m\u001b[0;34m)\u001b[0m\u001b[0;34m\u001b[0m\u001b[0;34m\u001b[0m\u001b[0m\n\u001b[0;32m---> 18\u001b[0;31m \u001b[0;32mfor\u001b[0m \u001b[0mi\u001b[0m \u001b[0;32min\u001b[0m \u001b[0mrange\u001b[0m\u001b[0;34m[\u001b[0m\u001b[0;36m0\u001b[0m\u001b[0;34m,\u001b[0m\u001b[0mx\u001b[0m\u001b[0;34m]\u001b[0m\u001b[0;34m:\u001b[0m\u001b[0;34m\u001b[0m\u001b[0;34m\u001b[0m\u001b[0m\n\u001b[0m\u001b[1;32m     19\u001b[0m   \u001b[0;32mif\u001b[0m \u001b[0mi\u001b[0m\u001b[0;34m%\u001b[0m\u001b[0;36m2\u001b[0m \u001b[0;34m==\u001b[0m \u001b[0;36m0\u001b[0m\u001b[0;34m:\u001b[0m\u001b[0;34m\u001b[0m\u001b[0;34m\u001b[0m\u001b[0m\n\u001b[1;32m     20\u001b[0m     \u001b[0mprint\u001b[0m \u001b[0;34m(\u001b[0m\u001b[0mstr\u001b[0m\u001b[0;34m[\u001b[0m\u001b[0mi\u001b[0m\u001b[0;34m]\u001b[0m\u001b[0;34m)\u001b[0m\u001b[0;34m\u001b[0m\u001b[0;34m\u001b[0m\u001b[0m\n",
            "\u001b[0;31mTypeError\u001b[0m: 'type' object is not subscriptable"
          ]
        }
      ]
    },
    {
      "cell_type": "code",
      "source": [
        "\n",
        "str =\"pynative\"\n",
        "print (str[::2])  \n",
        "\n",
        "     \n",
        "\n"
      ],
      "metadata": {
        "colab": {
          "base_uri": "https://localhost:8080/"
        },
        "id": "wilgpUi--GpA",
        "outputId": "6ffcce9d-dc84-4fbb-c11f-84d01f572c4f"
      },
      "execution_count": 45,
      "outputs": [
        {
          "output_type": "stream",
          "name": "stdout",
          "text": [
            "pntv\n"
          ]
        }
      ]
    },
    {
      "cell_type": "code",
      "source": [
        "word = input (\"enter a word\")\n",
        "size = len(word)\n",
        "for i in range(0,size ,2):\n",
        "  print(word[i])\n",
        "\n",
        "\n",
        "\n",
        "  "
      ],
      "metadata": {
        "colab": {
          "base_uri": "https://localhost:8080/"
        },
        "id": "_X32av5TBhfU",
        "outputId": "38ba1201-e269-4f0e-ab53-cfb312ab5ae2"
      },
      "execution_count": 50,
      "outputs": [
        {
          "output_type": "stream",
          "name": "stdout",
          "text": [
            "enter a wordpynative\n",
            "p\n",
            "n\n",
            "t\n",
            "v\n"
          ]
        }
      ]
    },
    {
      "cell_type": "code",
      "source": [
        "word = input('enter a string')\n",
        "print (word[4::])\n",
        "\n",
        "\n"
      ],
      "metadata": {
        "colab": {
          "base_uri": "https://localhost:8080/"
        },
        "id": "YdDrUtw1E7an",
        "outputId": "a6d29063-665b-4178-dc58-2677e7074507"
      },
      "execution_count": 55,
      "outputs": [
        {
          "output_type": "stream",
          "name": "stdout",
          "text": [
            "enter a stringshaheen\n",
            "een\n"
          ]
        }
      ]
    },
    {
      "cell_type": "code",
      "source": [
        "firstlist =[1,3,5,6,8]\n",
        "secondlist =[1,2,4,6,2]\n",
        " \n",
        "if (firstlist[0] == secondlist[-1]):\n",
        "  print (True)\n",
        "else:\n",
        "  print (False)\n",
        "\n"
      ],
      "metadata": {
        "colab": {
          "base_uri": "https://localhost:8080/"
        },
        "id": "rCmmQ3aEGdMP",
        "outputId": "063a88a7-1c1d-44bc-a72e-ccb249519af3"
      },
      "execution_count": 57,
      "outputs": [
        {
          "output_type": "stream",
          "name": "stdout",
          "text": [
            "False\n"
          ]
        }
      ]
    },
    {
      "cell_type": "code",
      "source": [
        "list1= [1,2,10,25,66,55,30,20]\n",
        "for i in list1:\n",
        "  if i%5 == 0:\n",
        "    print(i)\n",
        "    \n",
        "\n",
        "\n"
      ],
      "metadata": {
        "colab": {
          "base_uri": "https://localhost:8080/"
        },
        "id": "2B-HcdVEIBCA",
        "outputId": "485c6ba5-eb9f-4fe8-99e2-e6662dd656c5"
      },
      "execution_count": 58,
      "outputs": [
        {
          "output_type": "stream",
          "name": "stdout",
          "text": [
            "10\n",
            "25\n",
            "55\n",
            "30\n",
            "20\n"
          ]
        }
      ]
    },
    {
      "cell_type": "code",
      "source": [
        "str = \" emma is a good writer and emma is a good girl and emma likes painting\"\n",
        "x=0\n",
        "length= len(str)\n",
        "for i in range(0, length -1,1):\n",
        "  if str[i] == \"e\":\n",
        "    x = x+1\n",
        "  else:\n",
        "    x= x\n",
        "print('emma reoccured',x,'times')\n",
        "\n",
        " \n",
        "\n",
        "\n",
        "  \n",
        "\n",
        " \n",
        "\n"
      ],
      "metadata": {
        "colab": {
          "base_uri": "https://localhost:8080/"
        },
        "id": "q4i_C1HqJGyy",
        "outputId": "1f45f25d-b736-4511-9250-9b76f199d967"
      },
      "execution_count": 86,
      "outputs": [
        {
          "output_type": "stream",
          "name": "stdout",
          "text": [
            "emma reoccured 5 times\n"
          ]
        }
      ]
    },
    {
      "cell_type": "code",
      "source": [
        "from itertools import count\n",
        "str = \" emma is a good writer and emma is a good girl and emma likes painting\"\n",
        "x=0\n",
        "if str[::1] == \"e\":\n",
        "  x = x+1\n",
        "else:\n",
        "  x= x+0\n",
        "print (\"emma reoccured\",x,\"times\")  \n",
        "\n",
        "\n",
        "\n",
        "str = \" emma is a good writer and emma is a good girl and emma likes painting\"\n",
        "cnt = str.count(\"emma\")\n",
        "print (cnt)\n",
        "\n",
        "\n",
        "\n",
        "\n",
        "\n",
        "\n",
        "\n",
        "\n",
        "\n",
        "\n",
        " "
      ],
      "metadata": {
        "colab": {
          "base_uri": "https://localhost:8080/"
        },
        "id": "wRijJMNQNZJx",
        "outputId": "2761a32a-514f-43b9-bbd9-fc53c7abbeca"
      },
      "execution_count": 82,
      "outputs": [
        {
          "output_type": "stream",
          "name": "stdout",
          "text": [
            "emma reoccured 0 times\n",
            "3\n"
          ]
        }
      ]
    },
    {
      "cell_type": "code",
      "source": [],
      "metadata": {
        "id": "uMPhYbrJSQ1A"
      },
      "execution_count": null,
      "outputs": []
    },
    {
      "cell_type": "code",
      "source": [],
      "metadata": {
        "id": "3Or-mNzpSKVf"
      },
      "execution_count": null,
      "outputs": []
    },
    {
      "cell_type": "code",
      "source": [
        "()"
      ],
      "metadata": {
        "id": "mphzkT777tEP"
      },
      "execution_count": null,
      "outputs": []
    },
    {
      "cell_type": "code",
      "source": [
        "v=1\n",
        "h=2\n",
        "s= v+h\n",
        "print (s)\n"
      ],
      "metadata": {
        "colab": {
          "base_uri": "https://localhost:8080/"
        },
        "id": "JWYftTPZo6Up",
        "outputId": "a5d39a4a-9ff0-4f27-ccb8-c270229e9bdc"
      },
      "execution_count": 22,
      "outputs": [
        {
          "output_type": "stream",
          "name": "stdout",
          "text": [
            "3\n"
          ]
        }
      ]
    },
    {
      "cell_type": "code",
      "execution_count": 20,
      "metadata": {
        "colab": {
          "base_uri": "https://localhost:8080/"
        },
        "id": "AVbGxr9BleT4",
        "outputId": "91d394c5-0133-4bf1-a464-c21630d1cb7e"
      },
      "outputs": [
        {
          "output_type": "stream",
          "name": "stdout",
          "text": [
            "16\n",
            "assej si eman ym\n"
          ]
        }
      ],
      "source": [
        "\n",
        "strhhh = \"my name is jessa\"\n",
        "length= len(strhhh)\n",
        "print (length)\n",
        "print (strhhh[::-1])\n",
        "\n",
        "\n",
        "\n",
        "\n",
        "\n",
        "\n",
        "  \n",
        "\n",
        "\n",
        "\n",
        "\n",
        "\n",
        "\n",
        "\n",
        "\n",
        "\n",
        "\n",
        "\n",
        "\n",
        "\n"
      ]
    }
  ]
}