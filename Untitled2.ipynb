{
  "nbformat": 4,
  "nbformat_minor": 0,
  "metadata": {
    "colab": {
      "provenance": [],
      "authorship_tag": "ABX9TyP5Nwt5V742233UclZbgwpz",
      "include_colab_link": true
    },
    "kernelspec": {
      "name": "python3",
      "display_name": "Python 3"
    },
    "language_info": {
      "name": "python"
    }
  },
  "cells": [
    {
      "cell_type": "markdown",
      "metadata": {
        "id": "view-in-github",
        "colab_type": "text"
      },
      "source": [
        "<a href=\"https://colab.research.google.com/github/FareyaAli/practice/blob/main/Untitled2.ipynb\" target=\"_parent\"><img src=\"https://colab.research.google.com/assets/colab-badge.svg\" alt=\"Open In Colab\"/></a>"
      ]
    },
    {
      "cell_type": "code",
      "source": [
        "from pickleshare import pickle\n",
        "num=8.05824\n",
        "print(\"%.2f\" % num)"
      ],
      "metadata": {
        "colab": {
          "base_uri": "https://localhost:8080/"
        },
        "id": "UHCGFVDLjFgx",
        "outputId": "6a909ad9-59dc-4cc1-e90a-a4b6b8b3527b"
      },
      "execution_count": 19,
      "outputs": [
        {
          "output_type": "stream",
          "name": "stdout",
          "text": [
            "8.06\n"
          ]
        }
      ]
    },
    {
      "cell_type": "code",
      "source": [
        "x=[]\n",
        "for i in range(0,5):\n",
        "     item =float(input(\"enter number:i\"))\n",
        "     x.append(item) \n",
        "\n",
        "print (x)\n",
        " "
      ],
      "metadata": {
        "colab": {
          "base_uri": "https://localhost:8080/"
        },
        "id": "vrP1bA7JllZS",
        "outputId": "1ee717eb-bbde-475f-fbcf-875194c277ee"
      },
      "execution_count": 30,
      "outputs": [
        {
          "output_type": "stream",
          "name": "stdout",
          "text": [
            "enter number:i5\n",
            "enter number:i4\n",
            "enter number:i5\n",
            "enter number:i4\n",
            "enter number:i5\n",
            "[5.0, 4.0, 5.0, 4.0, 5.0]\n"
          ]
        }
      ]
    },
    {
      "cell_type": "code",
      "source": [
        "with open(\"test.txt\",\"r\") as fp:\n",
        "      ### read lines \n",
        "      lines= fp.readlines()"
      ],
      "metadata": {
        "id": "Wg1FTt5026Ow"
      },
      "execution_count": null,
      "outputs": []
    },
    {
      "cell_type": "code",
      "source": [
        "str1, str2, str3 = input(\"Enter three string\").split()\n",
        "print('Name1:', str1)\n",
        "print('Name2:', str2)\n",
        "print('Name3:', str3)"
      ],
      "metadata": {
        "colab": {
          "base_uri": "https://localhost:8080/"
        },
        "id": "msLMNJSD5V-T",
        "outputId": "224affbf-e061-4de5-92df-8173f9542621"
      },
      "execution_count": 35,
      "outputs": [
        {
          "output_type": "stream",
          "name": "stdout",
          "text": [
            "Enter three stringfareya ff ff\n",
            "Name1: fareya\n",
            "Name2: ff\n",
            "Name3: ff\n"
          ]
        }
      ]
    },
    {
      "cell_type": "code",
      "source": [
        "s,d,f= input(\"enter threestrings\").split()\n",
        "print(s)\n",
        "print(d)\n",
        "print(f)"
      ],
      "metadata": {
        "colab": {
          "base_uri": "https://localhost:8080/"
        },
        "id": "JfoMhvNX7NgO",
        "outputId": "3bf82cd8-d0d1-43d6-dae3-132c3d415148"
      },
      "execution_count": 38,
      "outputs": [
        {
          "output_type": "stream",
          "name": "stdout",
          "text": [
            "enter threestringsff ff ff\n",
            "ff\n",
            "ff\n",
            "ff\n"
          ]
        }
      ]
    },
    {
      "cell_type": "code",
      "source": [
        "list1=[1,6,4,52,85]\n",
        "list2=[5.6,6,5,25]\n",
        "lst=[]\n",
        "for num in list1:\n",
        "  if num % 2 == 0:\n",
        "    lst.append(num)\n",
        "\n",
        "for num in list2:\n",
        "   if num % 2 != 0:\n",
        "     lst.append(num)\n",
        "print (lst)\n",
        "\n",
        "\n",
        "\n",
        "\n"
      ],
      "metadata": {
        "colab": {
          "base_uri": "https://localhost:8080/"
        },
        "id": "qX_owVZTUgeu",
        "outputId": "28ef1ff9-c3eb-4e5d-9ac7-a6b8d2f73f9d"
      },
      "execution_count": 39,
      "outputs": [
        {
          "output_type": "stream",
          "name": "stdout",
          "text": [
            "[6, 4, 52, 5.6, 5, 25]\n"
          ]
        }
      ]
    },
    {
      "cell_type": "code",
      "source": [
        "number = 7526\n",
        "while number>0:\n",
        " digit = number % 10\n",
        " number = number // 10\n",
        " print (digit,end=\"\")\n"
      ],
      "metadata": {
        "colab": {
          "base_uri": "https://localhost:8080/"
        },
        "id": "36_TlMo2BRqU",
        "outputId": "f37ba720-0eef-4e8c-9fb9-c3e0e7270d2b"
      },
      "execution_count": 3,
      "outputs": [
        {
          "output_type": "stream",
          "name": "stdout",
          "text": [
            "6257"
          ]
        }
      ]
    },
    {
      "cell_type": "code",
      "source": [
        "from ast import Return\n",
        "from inspect import EndOfBlock\n",
        "income =int(input(\"mention your salary\"))\n",
        "if income>1000:\n",
        "    if  income <= 10000:\n",
        "       interest = (income-1000)*0.10\n",
        "       print (interest)\n",
        "    else: \n",
        "        interest= 10000*0.10+ (income-11000)*0.20\n",
        "        print (interest)\n",
        "\n",
        "else:\n",
        "  print(\"no interest for you\")\n",
        "Return"
      ],
      "metadata": {
        "colab": {
          "base_uri": "https://localhost:8080/"
        },
        "id": "-mfWoRsVIBJE",
        "outputId": "f52c80ec-595e-4c5a-d906-ceca6d94d5c9"
      },
      "execution_count": 23,
      "outputs": [
        {
          "output_type": "stream",
          "name": "stdout",
          "text": [
            "mention your salary65000\n",
            "11800.0\n"
          ]
        },
        {
          "output_type": "execute_result",
          "data": {
            "text/plain": [
              "_ast.Return"
            ]
          },
          "metadata": {},
          "execution_count": 23
        }
      ]
    },
    {
      "cell_type": "code",
      "source": [
        "for i in range(0,11):\n",
        "  for j in range(0,11):\n",
        "    print (i*j,end= \" \")\n",
        "  print(\"\\t\\t\") \n"
      ],
      "metadata": {
        "colab": {
          "base_uri": "https://localhost:8080/"
        },
        "id": "0-E2IzCirs5B",
        "outputId": "7e860819-2f86-4668-f50b-1677e0267dbf"
      },
      "execution_count": 5,
      "outputs": [
        {
          "output_type": "stream",
          "name": "stdout",
          "text": [
            "0 0 0 0 0 0 0 0 0 0 0 \t\t\n",
            "0 1 2 3 4 5 6 7 8 9 10 \t\t\n",
            "0 2 4 6 8 10 12 14 16 18 20 \t\t\n",
            "0 3 6 9 12 15 18 21 24 27 30 \t\t\n",
            "0 4 8 12 16 20 24 28 32 36 40 \t\t\n",
            "0 5 10 15 20 25 30 35 40 45 50 \t\t\n",
            "0 6 12 18 24 30 36 42 48 54 60 \t\t\n",
            "0 7 14 21 28 35 42 49 56 63 70 \t\t\n",
            "0 8 16 24 32 40 48 56 64 72 80 \t\t\n",
            "0 9 18 27 36 45 54 63 72 81 90 \t\t\n",
            "0 10 20 30 40 50 60 70 80 90 100 \t\t\n"
          ]
        }
      ]
    },
    {
      "cell_type": "code",
      "source": [],
      "metadata": {
        "colab": {
          "base_uri": "https://localhost:8080/"
        },
        "id": "Ls0hIUqnviMf",
        "outputId": "6107e6d2-3083-40da-b84a-8ac0869fb198"
      },
      "execution_count": 14,
      "outputs": [
        {
          "output_type": "stream",
          "name": "stdout",
          "text": [
            " \n",
            " \n",
            " \n",
            " \n",
            " \n",
            " \n"
          ]
        }
      ]
    }
  ]
}